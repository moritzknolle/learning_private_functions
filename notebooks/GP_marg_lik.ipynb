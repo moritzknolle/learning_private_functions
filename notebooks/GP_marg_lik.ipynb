{
 "cells": [
  {
   "cell_type": "code",
   "execution_count": null,
   "metadata": {},
   "outputs": [],
   "source": [
    "# Setup autoreload and add parent dir to sys.path\n",
    "%load_ext autoreload\n",
    "%autoreload 2\n",
    "import sys\n",
    "sys.path.insert(0,'..')"
   ]
  },
  {
   "cell_type": "code",
   "execution_count": 1,
   "metadata": {},
   "outputs": [
    {
     "name": "stderr",
     "output_type": "stream",
     "text": [
      "2022-07-13 12:41:29.629713: I tensorflow/core/util/util.cc:169] oneDNN custom operations are on. You may see slightly different numerical results due to floating-point round-off errors from different computation orders. To turn them off, set the environment variable `TF_ENABLE_ONEDNN_OPTS=0`.\n",
      "2022-07-13 12:41:29.632846: W tensorflow/stream_executor/platform/default/dso_loader.cc:64] Could not load dynamic library 'libcudart.so.11.0'; dlerror: libcudart.so.11.0: cannot open shared object file: No such file or directory\n",
      "2022-07-13 12:41:29.632855: I tensorflow/stream_executor/cuda/cudart_stub.cc:29] Ignore above cudart dlerror if you do not have a GPU set up on your machine.\n"
     ]
    }
   ],
   "source": [
    "import gpflow\n",
    "import numpy as np\n",
    "import matplotlib\n",
    "import seaborn as sns\n",
    "import tensorflow as tf\n",
    "\n",
    "# The lines below are specific to the notebook format\n",
    "%matplotlib inline\n",
    "matplotlib.rcParams['figure.figsize'] = (12, 6)\n",
    "matplotlib.rcParams['font.size'] = 20\n",
    "plt = matplotlib.pyplot"
   ]
  },
  {
   "cell_type": "code",
   "execution_count": 3,
   "metadata": {},
   "outputs": [
    {
     "data": {
      "image/png": "[encoded data removed]",
      "text/plain": [
       "<Figure size 864x432 with 1 Axes>"
      ]
     },
     "metadata": {
      "needs_background": "light"
     },
     "output_type": "display_data"
    }
   ],
   "source": [
    "D = np.array([[0, -0.3], [0.1, 0.5], [0.14, 0.6], [0.25, -0.8],  [0.5, .5]])\n",
    "D_prime = np.delete(D, 3, axis=0)\n",
    "X = D[:, 0].reshape(-1, 1)\n",
    "Y = D[:, 1].reshape(-1, 1)\n",
    "\n",
    "_ = plt.plot(X, Y, \"kx\", mew=2)\n",
    "sns.despine()"
   ]
  },
  {
   "cell_type": "code",
   "execution_count": 4,
   "metadata": {},
   "outputs": [
    {
     "name": "stderr",
     "output_type": "stream",
     "text": [
      "2022-05-27 10:33:02.429432: W tensorflow/stream_executor/platform/default/dso_loader.cc:64] Could not load dynamic library 'libcudart.so.11.0'; dlerror: libcudart.so.11.0: cannot open shared object file: No such file or directory\n",
      "2022-05-27 10:33:02.429489: W tensorflow/stream_executor/platform/default/dso_loader.cc:64] Could not load dynamic library 'libcublas.so.11'; dlerror: libcublas.so.11: cannot open shared object file: No such file or directory\n",
      "2022-05-27 10:33:02.429521: W tensorflow/stream_executor/platform/default/dso_loader.cc:64] Could not load dynamic library 'libcublasLt.so.11'; dlerror: libcublasLt.so.11: cannot open shared object file: No such file or directory\n",
      "2022-05-27 10:33:02.431320: W tensorflow/stream_executor/platform/default/dso_loader.cc:64] Could not load dynamic library 'libcusolver.so.11'; dlerror: libcusolver.so.11: cannot open shared object file: No such file or directory\n",
      "2022-05-27 10:33:02.431357: W tensorflow/stream_executor/platform/default/dso_loader.cc:64] Could not load dynamic library 'libcusparse.so.11'; dlerror: libcusparse.so.11: cannot open shared object file: No such file or directory\n",
      "2022-05-27 10:33:02.431384: W tensorflow/stream_executor/platform/default/dso_loader.cc:64] Could not load dynamic library 'libcudnn.so.8'; dlerror: libcudnn.so.8: cannot open shared object file: No such file or directory\n",
      "2022-05-27 10:33:02.431390: W tensorflow/core/common_runtime/gpu/gpu_device.cc:1850] Cannot dlopen some GPU libraries. Please make sure the missing libraries mentioned above are installed properly if you would like to use GPU. Follow the guide at https://www.tensorflow.org/install/gpu for how to download and setup the required libraries for your platform.\n",
      "Skipping registering GPU devices...\n",
      "2022-05-27 10:33:02.432125: I tensorflow/core/platform/cpu_feature_guard.cc:193] This TensorFlow binary is optimized with oneAPI Deep Neural Network Library (oneDNN) to use the following CPU instructions in performance-critical operations:  AVX2 AVX512F AVX512_VNNI FMA\n",
      "To enable them in other operations, rebuild TensorFlow with the appropriate compiler flags.\n"
     ]
    },
    {
     "data": {
      "text/html": [
       "&lt;gpflow.kernels.stationaries.SquaredExponential object at 0x7f1f8c5650a0&gt;\n",
       "<table>\n",
       "<thead>\n",
       "<tr><th>name                           </th><th>class    </th><th>transform  </th><th>prior  </th><th>trainable  </th><th>shape  </th><th>dtype  </th><th style=\"text-align: right;\">  value</th></tr>\n",
       "</thead>\n",
       "<tbody>\n",
       "<tr><td>SquaredExponential.variance    </td><td>Parameter</td><td>Softplus   </td><td>       </td><td>True       </td><td>()     </td><td>float64</td><td style=\"text-align: right;\">      1</td></tr>\n",
       "<tr><td>SquaredExponential.lengthscales</td><td>Parameter</td><td>Softplus   </td><td>       </td><td>True       </td><td>()     </td><td>float64</td><td style=\"text-align: right;\">      1</td></tr>\n",
       "</tbody>\n",
       "</table>"
      ],
      "text/plain": [
       "<gpflow.kernels.stationaries.SquaredExponential object at 0x7f1f8c5650a0>\n",
       "╒═════════════════════════════════╤═══════════╤═════════════╤═════════╤═════════════╤═════════╤═════════╤═════════╕\n",
       "│ name                            │ class     │ transform   │ prior   │ trainable   │ shape   │ dtype   │   value │\n",
       "╞═════════════════════════════════╪═══════════╪═════════════╪═════════╪═════════════╪═════════╪═════════╪═════════╡\n",
       "│ SquaredExponential.variance     │ Parameter │ Softplus    │         │ True        │ ()      │ float64 │       1 │\n",
       "├─────────────────────────────────┼───────────┼─────────────┼─────────┼─────────────┼─────────┼─────────┼─────────┤\n",
       "│ SquaredExponential.lengthscales │ Parameter │ Softplus    │         │ True        │ ()      │ float64 │       1 │\n",
       "╘═════════════════════════════════╧═══════════╧═════════════╧═════════╧═════════════╧═════════╧═════════╧═════════╛"
      ]
     },
     "execution_count": 4,
     "metadata": {},
     "output_type": "execute_result"
    }
   ],
   "source": [
    "k = gpflow.kernels.SquaredExponential()\n",
    "k"
   ]
  },
  {
   "cell_type": "code",
   "execution_count": 2,
   "metadata": {},
   "outputs": [
    {
     "ename": "NameError",
     "evalue": "name 'gpflow' is not defined",
     "output_type": "error",
     "traceback": [
      "\u001b[0;31m---------------------------------------------------------------------------\u001b[0m",
      "\u001b[0;31mNameError\u001b[0m                                 Traceback (most recent call last)",
      "\u001b[1;32m/home/moritz/repositories/thesis/GP_marg_lik.ipynb Cell 1'\u001b[0m in \u001b[0;36m<cell line: 1>\u001b[0;34m()\u001b[0m\n\u001b[0;32m----> <a href='vscode-notebook-cell://ssh-remote%2B100.77.118.99/home/moritz/repositories/thesis/GP_marg_lik.ipynb#ch0000000vscode-remote?line=0'>1</a>\u001b[0m gp_model \u001b[39m=\u001b[39m gpflow\u001b[39m.\u001b[39mmodels\u001b[39m.\u001b[39mGPR(data\u001b[39m=\u001b[39m(X, Y), kernel\u001b[39m=\u001b[39mk, mean_function\u001b[39m=\u001b[39m\u001b[39mNone\u001b[39;00m)\n\u001b[1;32m      <a href='vscode-notebook-cell://ssh-remote%2B100.77.118.99/home/moritz/repositories/thesis/GP_marg_lik.ipynb#ch0000000vscode-remote?line=1'>2</a>\u001b[0m gp_model\u001b[39m.\u001b[39mlikelihood\u001b[39m.\u001b[39mvariance\u001b[39m.\u001b[39massign(\u001b[39m0.1\u001b[39m)\n\u001b[1;32m      <a href='vscode-notebook-cell://ssh-remote%2B100.77.118.99/home/moritz/repositories/thesis/GP_marg_lik.ipynb#ch0000000vscode-remote?line=2'>3</a>\u001b[0m gp_model\u001b[39m.\u001b[39mkernel\u001b[39m.\u001b[39mlengthscales\u001b[39m.\u001b[39massign(\u001b[39m0.01\u001b[39m)\n",
      "\u001b[0;31mNameError\u001b[0m: name 'gpflow' is not defined"
     ]
    }
   ],
   "source": [
    "gp_model = gpflow.models.GPR(data=(X, Y), kernel=k, mean_function=None)\n",
    "gp_model.likelihood.variance.assign(0.1)\n",
    "gp_model.kernel.lengthscales.assign(0.01)\n",
    "opt = gpflow.optimizers.Scipy()\n",
    "opt_logs = opt.minimize(gp_model.training_loss, gp_model.trainable_variables, options=dict(maxiter=100))"
   ]
  },
  {
   "cell_type": "code",
   "execution_count": 1,
   "metadata": {},
   "outputs": [
    {
     "ename": "NameError",
     "evalue": "name 'gp_model' is not defined",
     "output_type": "error",
     "traceback": [
      "\u001b[0;31m---------------------------------------------------------------------------\u001b[0m",
      "\u001b[0;31mNameError\u001b[0m                                 Traceback (most recent call last)",
      "\u001b[1;32m/home/moritz/repositories/thesis/GP_marg_lik.ipynb Cell 5'\u001b[0m in \u001b[0;36m<cell line: 2>\u001b[0;34m()\u001b[0m\n\u001b[1;32m      <a href='vscode-notebook-cell://ssh-remote%2B100.77.118.99/home/moritz/repositories/thesis/GP_marg_lik.ipynb#ch0000004vscode-remote?line=0'>1</a>\u001b[0m \u001b[39m## predict mean and variance of latent GP at test points\u001b[39;00m\n\u001b[0;32m----> <a href='vscode-notebook-cell://ssh-remote%2B100.77.118.99/home/moritz/repositories/thesis/GP_marg_lik.ipynb#ch0000004vscode-remote?line=1'>2</a>\u001b[0m mean, var \u001b[39m=\u001b[39m gp_model\u001b[39m.\u001b[39mpredict_f(X_test)\n\u001b[1;32m      <a href='vscode-notebook-cell://ssh-remote%2B100.77.118.99/home/moritz/repositories/thesis/GP_marg_lik.ipynb#ch0000004vscode-remote?line=3'>4</a>\u001b[0m \u001b[39m## generate 10 samples from posterior\u001b[39;00m\n\u001b[1;32m      <a href='vscode-notebook-cell://ssh-remote%2B100.77.118.99/home/moritz/repositories/thesis/GP_marg_lik.ipynb#ch0000004vscode-remote?line=4'>5</a>\u001b[0m tf\u001b[39m.\u001b[39mrandom\u001b[39m.\u001b[39mset_seed(\u001b[39m1\u001b[39m)  \u001b[39m# for reproducibility\u001b[39;00m\n",
      "\u001b[0;31mNameError\u001b[0m: name 'gp_model' is not defined"
     ]
    }
   ],
   "source": [
    "## generate test points for prediction\n",
    "xx = np.linspace(-0.1, 1.1, 100).reshape(100, 1)  # test points must be of shape (N, D)\n",
    "\n",
    "## predict mean and variance of latent GP at test points\n",
    "mean, var = gp_model.predict_f(xx)\n",
    "\n",
    "## generate 10 samples from posterior\n",
    "tf.random.set_seed(1)  # for reproducibility\n",
    "samples = gp_model.predict_f_samples(xx, 15)  # shape (10, 100, 1)\n",
    "\n",
    "## plot\n",
    "plt.figure(figsize=(12, 6))\n",
    "plt.plot(xx, mean, c=\"C0\", lw=2)\n",
    "plt.fill_between(\n",
    "    xx[:, 0],\n",
    "    mean[:, 0] - 1.96 * np.sqrt(var[:, 0]),\n",
    "    mean[:, 0] + 1.96 * np.sqrt(var[:, 0]),\n",
    "    color=\"#A2D2FF\",\n",
    "    alpha=0.25,\n",
    ")\n",
    "\n",
    "plt.plot(xx, samples[:, :, 0].numpy().T, c=\"#A2D2FF\", linewidth=0.5, alpha=1.)\n",
    "_ = plt.xlim(-0.1, 0.7)\n",
    "plt.plot(X, Y, \"kx\", mew=2)\n",
    "sns.despine()\n",
    "plt.savefig(\"figures/gpr_fit_marg_lik.svg\")\n",
    "#plt.savefig(\"figures/gpr_fit.svg\")"
   ]
  },
  {
   "cell_type": "code",
   "execution_count": null,
   "metadata": {},
   "outputs": [],
   "source": []
  },
  {
   "cell_type": "code",
   "execution_count": null,
   "metadata": {},
   "outputs": [],
   "source": []
  },
  {
   "cell_type": "code",
   "execution_count": null,
   "metadata": {},
   "outputs": [],
   "source": []
  },
  {
   "cell_type": "code",
   "execution_count": null,
   "metadata": {},
   "outputs": [],
   "source": []
  }
 ],
 "metadata": {
  "interpreter": {
   "hash": "6f4444adefdd60bda756f13a0b9e35a7d718cd3e5bf3a595c7e977f859532bc1"
  },
  "kernelspec": {
   "display_name": "Python 3.9.12 ('thesis')",
   "language": "python",
   "name": "python3"
  },
  "language_info": {
   "codemirror_mode": {
    "name": "ipython",
    "version": 3
   },
   "file_extension": ".py",
   "mimetype": "text/x-python",
   "name": "python",
   "nbconvert_exporter": "python",
   "pygments_lexer": "ipython3",
   "version": "3.9.12"
  },
  "orig_nbformat": 4
 },
 "nbformat": 4,
 "nbformat_minor": 2
}
